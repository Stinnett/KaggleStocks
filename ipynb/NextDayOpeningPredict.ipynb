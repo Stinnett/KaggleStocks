{
 "cells": [
  {
   "cell_type": "markdown",
   "metadata": {},
   "source": [
    "# Try to Predict the Next Day's Opening Value\n",
    "## Import Dependencies"
   ]
  },
  {
   "cell_type": "code",
   "execution_count": null,
   "metadata": {
    "collapsed": true
   },
   "outputs": [],
   "source": [
    "import numpy as np\n",
    "import tensorflow as tf\n",
    "from tensorflow.contrib import learn\n",
    "from tensorflow.contrib.learn.python import SKCompat\n",
    "import scipy.io as sio\n",
    "from sklearn import metrics\n",
    "# sess = tf.InteractiveSession()"
   ]
  },
  {
   "cell_type": "markdown",
   "metadata": {},
   "source": [
    "## Import Data"
   ]
  },
  {
   "cell_type": "code",
   "execution_count": null,
   "metadata": {},
   "outputs": [],
   "source": [
    "# the data should be organized as [date, open, close, low, high, volume]\n",
    "data = sio.loadmat('../daily_data.mat')['data']"
   ]
  },
  {
   "cell_type": "markdown",
   "metadata": {},
   "source": [
    "Build Test and Train Datasets"
   ]
  },
  {
   "cell_type": "code",
   "execution_count": null,
   "metadata": {
    "collapsed": true
   },
   "outputs": [],
   "source": [
    "data_len = data.shape[0]\n",
    "\n",
    "# test data length\n",
    "train_len = round(3 * data_len / 4)\n",
    "\n",
    "x_train = data[0:train_len, :, :]\n",
    "# start with just predicting the opening value the next day\n",
    "y_train = data[1:train_len + 1, :, 1]\n",
    "\n",
    "x_test = data[train_len + 1:-1, :, :]\n",
    "# start with just predicting the opening value the next day\n",
    "y_test = data[train_len + 2:, :, 1]\n",
    "\n",
    "# let's start by just flattening the data\n",
    "x_train = np.reshape(x_train, (train_len, -1))\n",
    "x_test = np.reshape(x_test, (len(y_test), -1))"
   ]
  },
  {
   "cell_type": "markdown",
   "metadata": {},
   "source": [
    "## Build Neural Net and Train It"
   ]
  },
  {
   "cell_type": "code",
   "execution_count": null,
   "metadata": {},
   "outputs": [],
   "source": [
    "# Specify that all features have real-value data\n",
    "feature_columns = [tf.contrib.layers.real_valued_column(\"\", dimension=x_train.shape[1])]\n",
    "\n",
    "validation_monitor = tf.contrib.learn.monitors.ValidationMonitor(\n",
    "    x_test,\n",
    "    y_test,\n",
    "    every_n_steps=100)\n",
    "\n",
    "classifier = learn.DNNRegressor(label_dimension=y_train.shape[1], feature_columns=feature_columns,\n",
    "                                         hidden_units=[100, 50, 20],\n",
    "                                model_dir=\"/tmp/opening_model\",\n",
    "                     config=tf.contrib.learn.RunConfig(save_checkpoints_secs=1))\n",
    "classifier.fit(x=x_train, y=y_train, steps=10000, batch_size=100)"
   ]
  },
  {
   "cell_type": "code",
   "execution_count": null,
   "metadata": {},
   "outputs": [],
   "source": [
    "classifier.evaluate(x_test, y_test)"
   ]
  },
  {
   "cell_type": "code",
   "execution_count": null,
   "metadata": {
    "collapsed": true
   },
   "outputs": [],
   "source": []
  }
 ],
 "metadata": {
  "kernelspec": {
   "display_name": "Python 3",
   "language": "python",
   "name": "python3"
  },
  "language_info": {
   "codemirror_mode": {
    "name": "ipython",
    "version": 3
   },
   "file_extension": ".py",
   "mimetype": "text/x-python",
   "name": "python",
   "nbconvert_exporter": "python",
   "pygments_lexer": "ipython3",
   "version": "3.5.2"
  }
 },
 "nbformat": 4,
 "nbformat_minor": 2
}
