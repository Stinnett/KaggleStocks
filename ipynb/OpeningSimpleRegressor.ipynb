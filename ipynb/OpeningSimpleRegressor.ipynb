{
 "cells": [
  {
   "cell_type": "code",
   "execution_count": null,
   "metadata": {
    "collapsed": true
   },
   "outputs": [],
   "source": [
    "import numpy as np\n",
    "import tensorflow as tf\n",
    "import scipy.io as sio\n",
    "from sklearn.utils import resample, shuffle"
   ]
  },
  {
   "cell_type": "code",
   "execution_count": null,
   "metadata": {
    "collapsed": true
   },
   "outputs": [],
   "source": [
    "# the data should be organized as [date, open, close, low, high, volume]\n",
    "data = sio.loadmat('../daily_data.mat')['data']"
   ]
  },
  {
   "cell_type": "code",
   "execution_count": null,
   "metadata": {
    "collapsed": true
   },
   "outputs": [],
   "source": [
    "data_len = data.shape[0]\n",
    "\n",
    "# test data length\n",
    "train_len = round(3 * data_len / 4)\n",
    "\n",
    "x_train = data[0:train_len, :, :]\n",
    "# start with just predicting the opening value the next day\n",
    "y_train = data[1:train_len + 1, :, 1]\n",
    "\n",
    "x_test = data[train_len + 1:-1, :, :]\n",
    "# start with just predicting the opening value the next day\n",
    "y_test = data[train_len + 2:, :, 1]\n",
    "\n",
    "# let's start by just flattening the data\n",
    "x_train = np.reshape(x_train, (train_len, -1))\n",
    "x_test = np.reshape(x_test, (len(y_test), -1))"
   ]
  },
  {
   "cell_type": "code",
   "execution_count": null,
   "metadata": {
    "collapsed": true
   },
   "outputs": [],
   "source": [
    "def weight_variable(shape):\n",
    "    initial = tf.truncated_normal(shape, stddev=0.1)\n",
    "    return tf.Variable(initial)\n",
    "\n",
    "def bias_variable(shape):\n",
    "    initial = tf.constant(0.1, shape=shape)\n",
    "    return tf.Variable(initial)"
   ]
  },
  {
   "cell_type": "code",
   "execution_count": null,
   "metadata": {
    "collapsed": true
   },
   "outputs": [],
   "source": [
    "# def huber_loss(labels, predictions, delta=1.0):\n",
    "#     residual = tf.abs(predictions - labels)\n",
    "#     condition = tf.less(residual, delta)\n",
    "#     small_res = 0.5 * tf.square(residual)\n",
    "#     large_res = delta * residual - 0.5 * tf.square(delta)\n",
    "#     return tf.select(condition, small_res, large_res)\n",
    "def huber_loss(y_true, y_pred, max_grad=1.):\n",
    "    \"\"\"Calculates the huber loss.\n",
    "\n",
    "    Parameters\n",
    "    ----------\n",
    "    y_true: np.array, tf.Tensor\n",
    "      Target value.\n",
    "    y_pred: np.array, tf.Tensor\n",
    "      Predicted value.\n",
    "    max_grad: float, optional\n",
    "      Positive floating point value. Represents the maximum possible\n",
    "      gradient magnitude.\n",
    "\n",
    "    Returns\n",
    "    -------\n",
    "    tf.Tensor\n",
    "      The huber loss.\n",
    "    \"\"\"\n",
    "    err = tf.abs(y_true - y_pred, name='abs')\n",
    "    mg = tf.constant(max_grad, name='max_grad')\n",
    "    lin = mg*(err-.5*mg)\n",
    "    quad=.5*err*err\n",
    "    return tf.where(err < mg, quad, lin)"
   ]
  },
  {
   "cell_type": "code",
   "execution_count": null,
   "metadata": {},
   "outputs": [],
   "source": [
    "input_len = x_train.shape[1]\n",
    "output_len = y_train.shape[1]\n",
    "hidden_len = round((input_len-output_len)/2.0)\n",
    "\n",
    "# Create the model\n",
    "# x = tf.placeholder(tf.float32, [None, input_len])\n",
    "# W = tf.Variable(tf.zeros([input_len, output_len]))\n",
    "# b = tf.Variable(tf.zeros([output_len]))\n",
    "# y = tf.matmul(x, W) + b\n",
    "x = tf.placeholder(tf.float32, [None, input_len])\n",
    "W = weight_variable([input_len, hidden_len])\n",
    "b = bias_variable([hidden_len])\n",
    "x2 = tf.tanh(tf.matmul(x, W) + b)\n",
    "# x2 = tf.nn.relu(tf.matmul(x, W) + b)\n",
    "\n",
    "# add dropout\n",
    "keep_prob = tf.placeholder(tf.float32)\n",
    "x2_drop = tf.nn.dropout(x2, keep_prob)\n",
    "\n",
    "W2 = weight_variable([hidden_len, output_len])\n",
    "b2 = bias_variable([output_len])\n",
    "y = tf.matmul(x2_drop, W2) + b2\n",
    "\n",
    "# Define loss and optimizer\n",
    "y_ = tf.placeholder(tf.float32, [None, output_len])\n",
    "\n",
    "# The raw formulation of cross-entropy,\n",
    "#\n",
    "#   tf.reduce_mean(-tf.reduce_sum(y_ * tf.log(tf.nn.softmax(y)),\n",
    "#                                 reduction_indices=[1]))\n",
    "#\n",
    "# can be numerically unstable.\n",
    "#\n",
    "# So here we use tf.nn.softmax_cross_entropy_with_logits on the raw\n",
    "# outputs of 'y', and then average across the batch.\n",
    "# loss = tf.reduce_mean(\n",
    "#   tf.nn.softmax_cross_entropy_with_logits(labels=y_, logits=y))\n",
    "# loss = tf.losses.mean_squared_error(labels=y_, predictions=y)\n",
    "# loss = tf.reduce_mean(tf.square(y-y_))\n",
    "loss = huber_loss(y_, y)\n",
    "accuracy = tf.reduce_mean(tf.squared_difference(y, y_))\n",
    "train_step = tf.train.AdamOptimizer(1e-2).minimize(loss)\n",
    "\n",
    "sess = tf.InteractiveSession()\n",
    "tf.global_variables_initializer().run()\n",
    "# Train\n",
    "for i in range(4000):\n",
    "    batch_xs, batch_ys = resample(x_train, y_train, n_samples=100, random_state=0)\n",
    "#     sess.run(train_step, feed_dict={x: batch_xs, y_: batch_ys})\n",
    "    train_step.run(feed_dict={x: batch_xs, y_: batch_ys, keep_prob: 0.9})\n",
    "    if i%100 == 0:\n",
    "        train_accuracy = accuracy.eval(feed_dict={\n",
    "            x:batch_xs, y_: batch_ys, keep_prob: 1.0})\n",
    "        print(\"step %d, training accuracy %g\"%(i, train_accuracy))\n",
    "    "
   ]
  },
  {
   "cell_type": "code",
   "execution_count": null,
   "metadata": {},
   "outputs": [],
   "source": [
    "print(\"test accuracy %g\"%accuracy.eval(feed_dict={\n",
    "x: x_test, y_: y_test, keep_prob: 1.0}))"
   ]
  },
  {
   "cell_type": "code",
   "execution_count": null,
   "metadata": {},
   "outputs": [],
   "source": [
    "accuracy.eval(feed_dict={\n",
    "x: x_test[0:1,:], y_: y_test[0:1,:], keep_prob: 1.0})"
   ]
  },
  {
   "cell_type": "code",
   "execution_count": null,
   "metadata": {},
   "outputs": [],
   "source": [
    "y_test[0,:]"
   ]
  },
  {
   "cell_type": "code",
   "execution_count": null,
   "metadata": {},
   "outputs": [],
   "source": [
    "sess.run(y, {x: x_test[0:1,:], keep_prob: 1.0})"
   ]
  },
  {
   "cell_type": "code",
   "execution_count": null,
   "metadata": {},
   "outputs": [],
   "source": [
    "data.shape"
   ]
  },
  {
   "cell_type": "code",
   "execution_count": null,
   "metadata": {
    "collapsed": true
   },
   "outputs": [],
   "source": []
  }
 ],
 "metadata": {
  "kernelspec": {
   "display_name": "Python 3",
   "language": "python",
   "name": "python3"
  },
  "language_info": {
   "codemirror_mode": {
    "name": "ipython",
    "version": 3
   },
   "file_extension": ".py",
   "mimetype": "text/x-python",
   "name": "python",
   "nbconvert_exporter": "python",
   "pygments_lexer": "ipython3",
   "version": "3.5.2"
  }
 },
 "nbformat": 4,
 "nbformat_minor": 2
}
